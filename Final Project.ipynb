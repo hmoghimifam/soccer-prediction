{
 "cells": [
  {
   "cell_type": "markdown",
   "metadata": {},
   "source": [
    "# Final Project, CS6190 Probabilistic Modeling\n",
    "# Predicting Soccer Results\n",
    "\n",
    "### Amir Mirbagheri\n",
    "### Hossein Moghimifam\n",
    "\n"
   ]
  },
  {
   "cell_type": "markdown",
   "metadata": {},
   "source": [
    "The goal of this project is to predict the results of upcoming matches based on previous results in a Primier League season.\n",
    "Three different method are utilized and their accuracy is compared.\n",
    "\n",
    "1) Bayesian Logistic Regression using HMC as sampler\n",
    "    the HMC code was reproduced from Neal 2012, available at https://arxiv.org/pdf/1206.1901.pdf.\n",
    "    <br>\n",
    "    $$U=\\sum_{i=1}^n (1-y_i)x^T_i\\beta+log(1+e^{-x_i^T\\beta})-\\frac{1}{2\\sigma^2}||\\beta||^2$$\n",
    "    <br>\n",
    "For predicting the results, \"y\" has been assumed as a $3 \\times n$ matrix. In each row, only one element can be 1 and the other 2 should be 0. The probability for each column is calculated separately using Bayesian Logistic Regression, and the one with highest probability is set as 1, and the other two as 0. Where:\n",
    "$$P(y_k)=\\dfrac{1}{1+e^{-X \\beta}}$$\n",
    "<br>\n",
    "Machine Learning Algorithms:\n",
    "<br>\n",
    "2) Support Vector Machine (SVM)\n",
    "<img src=\"SVMML.JPG\">\n",
    "$$\n",
    "\\begin{align}\n",
    "&Minimize \\quad \\frac12 ||w||^2\\\\\n",
    "&subject \\quad to \\quad y_i(w^Tx_i+b)\\geq1 \n",
    "\\end{align}$$\n",
    "3) Logistic Regression with MLE\n",
    "<img src=\"LR.JPG\">\n",
    "The parameters for each method is then optimized, and the result is compared to the prediction of BET365."
   ]
  },
  {
   "cell_type": "markdown",
   "metadata": {},
   "source": [
    "You can download data of English premier league 2016/2017 from:\n",
    "http://football-data.co.uk/englandm.php\n",
    "\n",
    "These are the features extracted from that data:\n",
    "<br>\n",
    "HomeTeam = Home Team \n",
    "<br>\n",
    "AwayTeam = Away Team\n",
    "<br>\n",
    "FTHG and HG = Full Time Home Team Goals\n",
    "<br>\n",
    "FTAG and AG = Full Time Away Team Goals\n",
    "<br>\n",
    "FTR and Res = Full Time Result (H=Home Win, D=Draw, A=Away Win)\n",
    "<br>\n",
    "HS = Home Team Shots\n",
    "<br>\n",
    "AS = Away Team Shots\n",
    "<br>\n",
    "HST = Home Team Shots on Target\n",
    "<br>\n",
    "AST = Away Team Shots on Target\n",
    "<br>\n",
    "B365H = Bet365 home win odds\n",
    "<br>\n",
    "B365D = Bet365 draw odds\n",
    "<br>\n",
    "B365A = Bet365 away win odds"
   ]
  },
  {
   "cell_type": "code",
   "execution_count": 1,
   "metadata": {
    "scrolled": true
   },
   "outputs": [
    {
     "data": {
      "text/html": [
       "<div>\n",
       "<style scoped>\n",
       "    .dataframe tbody tr th:only-of-type {\n",
       "        vertical-align: middle;\n",
       "    }\n",
       "\n",
       "    .dataframe tbody tr th {\n",
       "        vertical-align: top;\n",
       "    }\n",
       "\n",
       "    .dataframe thead th {\n",
       "        text-align: right;\n",
       "    }\n",
       "</style>\n",
       "<table border=\"1\" class=\"dataframe\">\n",
       "  <thead>\n",
       "    <tr style=\"text-align: right;\">\n",
       "      <th></th>\n",
       "      <th>HomeTeam</th>\n",
       "      <th>AwayTeam</th>\n",
       "      <th>FTHG</th>\n",
       "      <th>FTAG</th>\n",
       "      <th>FTR</th>\n",
       "      <th>HS</th>\n",
       "      <th>AS</th>\n",
       "      <th>HST</th>\n",
       "      <th>AST</th>\n",
       "      <th>B365H</th>\n",
       "      <th>B365D</th>\n",
       "      <th>B365A</th>\n",
       "    </tr>\n",
       "  </thead>\n",
       "  <tbody>\n",
       "    <tr>\n",
       "      <th>0</th>\n",
       "      <td>Burnley</td>\n",
       "      <td>Swansea</td>\n",
       "      <td>0</td>\n",
       "      <td>1</td>\n",
       "      <td>A</td>\n",
       "      <td>10</td>\n",
       "      <td>17</td>\n",
       "      <td>3</td>\n",
       "      <td>9</td>\n",
       "      <td>2.40</td>\n",
       "      <td>3.3</td>\n",
       "      <td>3.25</td>\n",
       "    </tr>\n",
       "    <tr>\n",
       "      <th>1</th>\n",
       "      <td>Crystal Palace</td>\n",
       "      <td>West Brom</td>\n",
       "      <td>0</td>\n",
       "      <td>1</td>\n",
       "      <td>A</td>\n",
       "      <td>14</td>\n",
       "      <td>13</td>\n",
       "      <td>4</td>\n",
       "      <td>3</td>\n",
       "      <td>2.00</td>\n",
       "      <td>3.3</td>\n",
       "      <td>4.50</td>\n",
       "    </tr>\n",
       "    <tr>\n",
       "      <th>2</th>\n",
       "      <td>Everton</td>\n",
       "      <td>Tottenham</td>\n",
       "      <td>1</td>\n",
       "      <td>1</td>\n",
       "      <td>D</td>\n",
       "      <td>12</td>\n",
       "      <td>13</td>\n",
       "      <td>6</td>\n",
       "      <td>4</td>\n",
       "      <td>3.20</td>\n",
       "      <td>3.4</td>\n",
       "      <td>2.40</td>\n",
       "    </tr>\n",
       "    <tr>\n",
       "      <th>3</th>\n",
       "      <td>Hull</td>\n",
       "      <td>Leicester</td>\n",
       "      <td>2</td>\n",
       "      <td>1</td>\n",
       "      <td>H</td>\n",
       "      <td>14</td>\n",
       "      <td>18</td>\n",
       "      <td>5</td>\n",
       "      <td>5</td>\n",
       "      <td>4.50</td>\n",
       "      <td>3.6</td>\n",
       "      <td>1.91</td>\n",
       "    </tr>\n",
       "    <tr>\n",
       "      <th>4</th>\n",
       "      <td>Man City</td>\n",
       "      <td>Sunderland</td>\n",
       "      <td>2</td>\n",
       "      <td>1</td>\n",
       "      <td>H</td>\n",
       "      <td>16</td>\n",
       "      <td>7</td>\n",
       "      <td>4</td>\n",
       "      <td>3</td>\n",
       "      <td>1.25</td>\n",
       "      <td>6.5</td>\n",
       "      <td>15.00</td>\n",
       "    </tr>\n",
       "  </tbody>\n",
       "</table>\n",
       "</div>"
      ],
      "text/plain": [
       "         HomeTeam    AwayTeam  FTHG  FTAG FTR  HS  AS  HST  AST  B365H  B365D  \\\n",
       "0         Burnley     Swansea     0     1   A  10  17    3    9   2.40    3.3   \n",
       "1  Crystal Palace   West Brom     0     1   A  14  13    4    3   2.00    3.3   \n",
       "2         Everton   Tottenham     1     1   D  12  13    6    4   3.20    3.4   \n",
       "3            Hull   Leicester     2     1   H  14  18    5    5   4.50    3.6   \n",
       "4        Man City  Sunderland     2     1   H  16   7    4    3   1.25    6.5   \n",
       "\n",
       "   B365A  \n",
       "0   3.25  \n",
       "1   4.50  \n",
       "2   2.40  \n",
       "3   1.91  \n",
       "4  15.00  "
      ]
     },
     "execution_count": 1,
     "metadata": {},
     "output_type": "execute_result"
    }
   ],
   "source": [
    "import pandas as pd\n",
    "import numpy as np\n",
    "df1=pd.read_csv('E0.csv',usecols=['HomeTeam','AwayTeam','FTHG','FTAG','FTR','HS','AS','HST','AST'\n",
    ",'B365H','B365D','B365A'])\n",
    "df1.head()"
   ]
  },
  {
   "cell_type": "markdown",
   "metadata": {},
   "source": [
    "Now let's check the percentage of home win,away win and draw "
   ]
  },
  {
   "cell_type": "code",
   "execution_count": 2,
   "metadata": {},
   "outputs": [
    {
     "data": {
      "image/png": "[encoded data removed]",
      "text/plain": [
       "<matplotlib.figure.Figure at 0x1c8d28f79e8>"
      ]
     },
     "metadata": {},
     "output_type": "display_data"
    }
   ],
   "source": [
    "import matplotlib.pyplot as plt\n",
    "plt.figure(figsize=(6,8))\n",
    "plt.pie(df1['FTR'].value_counts(),labels=['Home','Away','Draw'], autopct='%1.1f%%',shadow=False, startangle=0)\n",
    "plt.axis('equal')\n",
    "plt.title('Win Percentage', size=18)\n",
    "plt.show()"
   ]
  },
  {
   "cell_type": "markdown",
   "metadata": {},
   "source": [
    "This pie graph shows the home team has higher chance to win the game. We can find confidence interval for our hypothesis."
   ]
  },
  {
   "cell_type": "code",
   "execution_count": 3,
   "metadata": {},
   "outputs": [
    {
     "name": "stdout",
     "output_type": "stream",
     "text": [
      "The chance of home team to win with %95 confidence interval falls in :(0.44183951466813098, 0.54237101164765844)\n"
     ]
    }
   ],
   "source": [
    "from statsmodels.stats import proportion\n",
    "conf=proportion.proportion_confint((df1['FTR']=='H').sum(), df1['FTR'].count(), alpha=0.05, method='normal')\n",
    "print('The chance of home team to win with %95 confidence interval falls in :{}'.format(conf))"
   ]
  },
  {
   "cell_type": "markdown",
   "metadata": {},
   "source": [
    "Team strengths data have been acquired from http://www.squawka.com/, and added to the previous data. These would add the effect of team attack, defense and possession capabilities."
   ]
  },
  {
   "cell_type": "code",
   "execution_count": 4,
   "metadata": {
    "collapsed": true
   },
   "outputs": [],
   "source": [
    "##add new data to data frame\n",
    "dfSq=pd.read_csv('dataE0.csv',index_col='Team').dropna(axis=0,how='any')\n",
    "##Hde: Home Defense    Hatt: Home Attack    Hpo: Home possession    Htot : Home total power  \n",
    "##Ade: Away defense   Aatt: away attack    Apo : Away possession :  Atot: Away total power\n",
    "dfSq.head()\n",
    "dff=df1.join(dfSq[['Hde','Hatt','Hpo','Htot']],on='HomeTeam')\n",
    "df=dff.join(dfSq[['Ade','Aatt','Apo','Atot']],on='AwayTeam')"
   ]
  },
  {
   "cell_type": "code",
   "execution_count": 5,
   "metadata": {},
   "outputs": [
    {
     "data": {
      "text/html": [
       "<div>\n",
       "<style scoped>\n",
       "    .dataframe tbody tr th:only-of-type {\n",
       "        vertical-align: middle;\n",
       "    }\n",
       "\n",
       "    .dataframe tbody tr th {\n",
       "        vertical-align: top;\n",
       "    }\n",
       "\n",
       "    .dataframe thead th {\n",
       "        text-align: right;\n",
       "    }\n",
       "</style>\n",
       "<table border=\"1\" class=\"dataframe\">\n",
       "  <thead>\n",
       "    <tr style=\"text-align: right;\">\n",
       "      <th></th>\n",
       "      <th>HomeTeam</th>\n",
       "      <th>AwayTeam</th>\n",
       "      <th>FTHG</th>\n",
       "      <th>FTAG</th>\n",
       "      <th>FTR</th>\n",
       "      <th>HS</th>\n",
       "      <th>AS</th>\n",
       "      <th>HST</th>\n",
       "      <th>AST</th>\n",
       "      <th>B365H</th>\n",
       "      <th>B365D</th>\n",
       "      <th>B365A</th>\n",
       "      <th>Hde</th>\n",
       "      <th>Hatt</th>\n",
       "      <th>Hpo</th>\n",
       "      <th>Htot</th>\n",
       "      <th>Ade</th>\n",
       "      <th>Aatt</th>\n",
       "      <th>Apo</th>\n",
       "      <th>Atot</th>\n",
       "    </tr>\n",
       "  </thead>\n",
       "  <tbody>\n",
       "    <tr>\n",
       "      <th>0</th>\n",
       "      <td>Burnley</td>\n",
       "      <td>Swansea</td>\n",
       "      <td>0</td>\n",
       "      <td>1</td>\n",
       "      <td>A</td>\n",
       "      <td>10</td>\n",
       "      <td>17</td>\n",
       "      <td>3</td>\n",
       "      <td>9</td>\n",
       "      <td>2.40</td>\n",
       "      <td>3.3</td>\n",
       "      <td>3.25</td>\n",
       "      <td>33.53</td>\n",
       "      <td>50.34</td>\n",
       "      <td>-41.32</td>\n",
       "      <td>42.55</td>\n",
       "      <td>-1.58</td>\n",
       "      <td>36.53</td>\n",
       "      <td>-17.24</td>\n",
       "      <td>17.71</td>\n",
       "    </tr>\n",
       "    <tr>\n",
       "      <th>1</th>\n",
       "      <td>Crystal Palace</td>\n",
       "      <td>West Brom</td>\n",
       "      <td>0</td>\n",
       "      <td>1</td>\n",
       "      <td>A</td>\n",
       "      <td>14</td>\n",
       "      <td>13</td>\n",
       "      <td>4</td>\n",
       "      <td>3</td>\n",
       "      <td>2.00</td>\n",
       "      <td>3.3</td>\n",
       "      <td>4.50</td>\n",
       "      <td>18.53</td>\n",
       "      <td>47.68</td>\n",
       "      <td>-26.71</td>\n",
       "      <td>39.47</td>\n",
       "      <td>6.79</td>\n",
       "      <td>39.21</td>\n",
       "      <td>-45.00</td>\n",
       "      <td>-12.29</td>\n",
       "    </tr>\n",
       "    <tr>\n",
       "      <th>2</th>\n",
       "      <td>Everton</td>\n",
       "      <td>Tottenham</td>\n",
       "      <td>1</td>\n",
       "      <td>1</td>\n",
       "      <td>D</td>\n",
       "      <td>12</td>\n",
       "      <td>13</td>\n",
       "      <td>6</td>\n",
       "      <td>4</td>\n",
       "      <td>3.20</td>\n",
       "      <td>3.4</td>\n",
       "      <td>2.40</td>\n",
       "      <td>51.00</td>\n",
       "      <td>87.66</td>\n",
       "      <td>-9.21</td>\n",
       "      <td>129.42</td>\n",
       "      <td>27.34</td>\n",
       "      <td>80.92</td>\n",
       "      <td>3.34</td>\n",
       "      <td>111.61</td>\n",
       "    </tr>\n",
       "    <tr>\n",
       "      <th>3</th>\n",
       "      <td>Hull</td>\n",
       "      <td>Leicester</td>\n",
       "      <td>2</td>\n",
       "      <td>1</td>\n",
       "      <td>H</td>\n",
       "      <td>14</td>\n",
       "      <td>18</td>\n",
       "      <td>5</td>\n",
       "      <td>5</td>\n",
       "      <td>4.50</td>\n",
       "      <td>3.6</td>\n",
       "      <td>1.91</td>\n",
       "      <td>10.53</td>\n",
       "      <td>48.87</td>\n",
       "      <td>-23.13</td>\n",
       "      <td>36.24</td>\n",
       "      <td>-4.50</td>\n",
       "      <td>36.71</td>\n",
       "      <td>-44.50</td>\n",
       "      <td>-12.29</td>\n",
       "    </tr>\n",
       "    <tr>\n",
       "      <th>4</th>\n",
       "      <td>Man City</td>\n",
       "      <td>Sunderland</td>\n",
       "      <td>2</td>\n",
       "      <td>1</td>\n",
       "      <td>H</td>\n",
       "      <td>16</td>\n",
       "      <td>7</td>\n",
       "      <td>4</td>\n",
       "      <td>3</td>\n",
       "      <td>1.25</td>\n",
       "      <td>6.5</td>\n",
       "      <td>15.00</td>\n",
       "      <td>12.84</td>\n",
       "      <td>82.34</td>\n",
       "      <td>35.37</td>\n",
       "      <td>130.53</td>\n",
       "      <td>20.00</td>\n",
       "      <td>38.58</td>\n",
       "      <td>-29.37</td>\n",
       "      <td>29.18</td>\n",
       "    </tr>\n",
       "  </tbody>\n",
       "</table>\n",
       "</div>"
      ],
      "text/plain": [
       "         HomeTeam    AwayTeam  FTHG  FTAG FTR  HS  AS  HST  AST  B365H  B365D  \\\n",
       "0         Burnley     Swansea     0     1   A  10  17    3    9   2.40    3.3   \n",
       "1  Crystal Palace   West Brom     0     1   A  14  13    4    3   2.00    3.3   \n",
       "2         Everton   Tottenham     1     1   D  12  13    6    4   3.20    3.4   \n",
       "3            Hull   Leicester     2     1   H  14  18    5    5   4.50    3.6   \n",
       "4        Man City  Sunderland     2     1   H  16   7    4    3   1.25    6.5   \n",
       "\n",
       "   B365A    Hde   Hatt    Hpo    Htot    Ade   Aatt    Apo    Atot  \n",
       "0   3.25  33.53  50.34 -41.32   42.55  -1.58  36.53 -17.24   17.71  \n",
       "1   4.50  18.53  47.68 -26.71   39.47   6.79  39.21 -45.00  -12.29  \n",
       "2   2.40  51.00  87.66  -9.21  129.42  27.34  80.92   3.34  111.61  \n",
       "3   1.91  10.53  48.87 -23.13   36.24  -4.50  36.71 -44.50  -12.29  \n",
       "4  15.00  12.84  82.34  35.37  130.53  20.00  38.58 -29.37   29.18  "
      ]
     },
     "execution_count": 5,
     "metadata": {},
     "output_type": "execute_result"
    }
   ],
   "source": [
    "df.head()"
   ]
  },
  {
   "cell_type": "markdown",
   "metadata": {},
   "source": [
    "Making features for our model (As an obvious fact we do not know the results for the game that we are predicting! so we need to make some features based on the previous results for every match):\n",
    "\n",
    "We defined a momentum which gives the average of five previous games for each team. It could be helpful to make our model more accurate. If for example some team in the five previous games shows poor results or great results, we can track them.\n",
    "<br>"
   ]
  },
  {
   "cell_type": "code",
   "execution_count": 6,
   "metadata": {},
   "outputs": [
    {
     "name": "stderr",
     "output_type": "stream",
     "text": [
      "D:\\Apps\\Anaconda3\\lib\\site-packages\\ipykernel_launcher.py:15: FutureWarning: pd.expanding_mean is deprecated for DataFrame and will be removed in a future version, replace with \n",
      "\tDataFrame.expanding(min_periods=1).mean()\n",
      "  from ipykernel import kernelapp as app\n",
      "D:\\Apps\\Anaconda3\\lib\\site-packages\\pandas\\core\\reshape\\merge.py:558: UserWarning: merging between different levels can give an unintended result (1 levels on the left, 2 on the right)\n",
      "  warnings.warn(msg, UserWarning)\n"
     ]
    }
   ],
   "source": [
    "def make_data(df):\n",
    "    ##add points for away and home team : win 3 points, draw 1 point, loss 0 point\n",
    "    df['HP']=np.select([df['FTR']=='H',df['FTR']=='D',df['FTR']=='A'],[3,1,0])\n",
    "    df['AP']=np.select([df['FTR']=='H',df['FTR']=='D',df['FTR']=='A'],[0,1,3])\n",
    "    ## add difference in goals for home and away team\n",
    "    df['HDG']=df['FTHG']-df['FTAG']\n",
    "    df['ADG']=-df['FTHG']+df['FTAG']\n",
    "    ##add momentum to data \n",
    "    cols=['Team','Points','Goal','Shoot','TargetShoot','DiffG']\n",
    "    df1=df[['HomeTeam','AwayTeam','HP','AP','FTHG','FTAG','HS','AS','HST','AST','HDG','ADG']]\n",
    "    df1.columns=[np.repeat(cols,2),['Home','Away']*len(cols)]\n",
    "    d1=df1.stack()\n",
    "    ##find momentum of previous five games for each team\n",
    "    mom5 = d1.groupby('Team').apply(lambda x: x.shift().rolling(5, 4).mean())\n",
    "    mom=d1.groupby('Team').apply(lambda x: pd.expanding_mean(x.shift()))\n",
    "    ##add the found momentum to the dataframe\n",
    "    df2=d1.assign(MP=mom5['Points'],MG=mom5['Goal'],MS=mom5['Shoot'],MST=mom5['TargetShoot'],MDG=mom5['DiffG']).unstack()\n",
    "    df2=df2.drop(['Points','Goal','Shoot','TargetShoot','DiffG'],axis=1)\n",
    "    df_final=pd.merge(df[['HomeTeam','AwayTeam','FTR','B365H','B365D','B365A','Ade','Aatt','Apo','Atot','Hde','Hatt','Hpo','Htot']],df2,left_on=['HomeTeam','AwayTeam'],right_on=[df2['Team']['Home'],df2['Team']['Away']])\n",
    "    df_final=df_final.dropna(axis=0,how='any')\n",
    "    ##Full time results ('FTR') : Home=0,Draw=1,Away=2\n",
    "    Y_all=df_final['FTR']\n",
    "    ##Full time results ('FTR') : Home=0,Draw=1,Away=2\n",
    "    ##Prediction of betting company (bet365)=Y_Bet\n",
    "    Y_Bet=df_final[['B365H','B365D','B365A']].apply(lambda x:1/x)\n",
    "    ## winner based on bet365 data\n",
    "    Y_Bet_FTR=np.select([Y_Bet.idxmax(axis=1)=='B365H',Y_Bet.idxmax(axis=1)=='B365D',Y_Bet.idxmax(axis=1)=='B365A'],['H','D','A'])\n",
    "    ##scale data\n",
    "    df_X=df_final.drop([('Team', 'Home'),('Team', 'Away'),'FTR','HomeTeam','AwayTeam','B365H','B365D','B365A'],axis=1)\n",
    "    return df_X, Y_all,Y_Bet,Y_Bet_FTR\n",
    "df_X, Y_all,Y_Bet,Y_Bet_FTR=make_data(df)\n",
    "df_X['biassed']=1"
   ]
  },
  {
   "cell_type": "code",
   "execution_count": 7,
   "metadata": {
    "collapsed": true
   },
   "outputs": [],
   "source": [
    "# HMC and energy formulas same as described in Neal 2012 article\n",
    "def U(beta,y,x,sigma):\n",
    "    return np.sum((1-y)[:,np.newaxis]*(np.dot(x,beta))+np.log(1+np.exp(-np.dot(x,beta))))+1/(2*sigma**2)*np.linalg.norm(beta)**2\n",
    "    \n",
    "def grad_U(beta,y,x,sigma):\n",
    "    return np.reshape(np.sum((1-y)[:,np.newaxis]*x+1/(1+np.exp(-np.dot(x,beta)))*(-x*np.exp(-np.dot(x,beta))),0),[x.shape[1],1])+(1/(sigma**2))*beta\n",
    "\n",
    "def HMC(x,y,sigma,eps,L,current_q):\n",
    "    q= current_q\n",
    "    p=np.reshape(np.random.normal(loc=0.0,scale=1.0,size=len(q)),[x.shape[1],1])\n",
    "    current_p= p\n",
    "    # Make a half step for momentum at the beginning\n",
    "    p= p-eps*grad_U(q,y,x,sigma)/2\n",
    "    # Alternate full steps for position and momentum\n",
    "    for i in range(L):\n",
    "        # Make a full step for the position\n",
    "        q= q+eps*p\n",
    "        # Make a full step for the momentum, except at the end of trajectory\n",
    "        if i != (L-1):\n",
    "            p=p-eps*grad_U(q,y,x,sigma)\n",
    "    # Make a half step for momentum at the end\n",
    "    p= p-eps*grad_U(q,y,x,sigma)/2\n",
    "    # Negate momentum at the end of the trajectory\n",
    "    p= -p\n",
    "    # Evaluate potential and kinetic energies at the start and end of the trajectory\n",
    "    current_U= U(current_q,y,x,sigma)\n",
    "    current_K= np.sum(current_p**2)/2\n",
    "    proposed_U= U(q,y,x,sigma)\n",
    "    proposed_K= np.sum(p**2)/2\n",
    "    # Accept or reject the state at the end of trajectory\n",
    "    if np.random.rand(1)[0]< np.exp(current_U-proposed_U+current_K-proposed_K):\n",
    "        return q\n",
    "    else:\n",
    "        return current_q # reject\n",
    "        "
   ]
  },
  {
   "cell_type": "code",
   "execution_count": 8,
   "metadata": {
    "scrolled": true
   },
   "outputs": [
    {
     "data": {
      "text/html": [
       "<div>\n",
       "<style scoped>\n",
       "    .dataframe tbody tr th:only-of-type {\n",
       "        vertical-align: middle;\n",
       "    }\n",
       "\n",
       "    .dataframe tbody tr th {\n",
       "        vertical-align: top;\n",
       "    }\n",
       "\n",
       "    .dataframe thead th {\n",
       "        text-align: right;\n",
       "    }\n",
       "</style>\n",
       "<table border=\"1\" class=\"dataframe\">\n",
       "  <thead>\n",
       "    <tr style=\"text-align: right;\">\n",
       "      <th></th>\n",
       "      <th>FTR</th>\n",
       "      <th>HW</th>\n",
       "      <th>DD</th>\n",
       "      <th>AW</th>\n",
       "    </tr>\n",
       "  </thead>\n",
       "  <tbody>\n",
       "    <tr>\n",
       "      <th>40</th>\n",
       "      <td>A</td>\n",
       "      <td>0</td>\n",
       "      <td>0</td>\n",
       "      <td>1</td>\n",
       "    </tr>\n",
       "    <tr>\n",
       "      <th>41</th>\n",
       "      <td>H</td>\n",
       "      <td>1</td>\n",
       "      <td>0</td>\n",
       "      <td>0</td>\n",
       "    </tr>\n",
       "    <tr>\n",
       "      <th>42</th>\n",
       "      <td>A</td>\n",
       "      <td>0</td>\n",
       "      <td>0</td>\n",
       "      <td>1</td>\n",
       "    </tr>\n",
       "    <tr>\n",
       "      <th>43</th>\n",
       "      <td>H</td>\n",
       "      <td>1</td>\n",
       "      <td>0</td>\n",
       "      <td>0</td>\n",
       "    </tr>\n",
       "    <tr>\n",
       "      <th>44</th>\n",
       "      <td>H</td>\n",
       "      <td>1</td>\n",
       "      <td>0</td>\n",
       "      <td>0</td>\n",
       "    </tr>\n",
       "  </tbody>\n",
       "</table>\n",
       "</div>"
      ],
      "text/plain": [
       "   FTR  HW  DD  AW\n",
       "40   A   0   0   1\n",
       "41   H   1   0   0\n",
       "42   A   0   0   1\n",
       "43   H   1   0   0\n",
       "44   H   1   0   0"
      ]
     },
     "execution_count": 8,
     "metadata": {},
     "output_type": "execute_result"
    }
   ],
   "source": [
    "# This function is used to create the 3*n outcome matrix out of the results which are in form of \"H\", wich is home win,\n",
    "#\"D\", which is a draw, and \"A\", which is an away win\n",
    "Result=Y_all.to_frame()\n",
    "def makeones(df):\n",
    "    df['HW']=np.select([df['FTR']=='H',df['FTR']=='D',df['FTR']=='A'],[1,0,0])\n",
    "    df['DD']=np.select([df['FTR']=='H',df['FTR']=='D',df['FTR']=='A'],[0,1,0])\n",
    "    df['AW']=np.select([df['FTR']=='H',df['FTR']=='D',df['FTR']=='A'],[0,0,1])\n",
    "    return\n",
    "makeones(Result)\n",
    "Result.head()"
   ]
  },
  {
   "cell_type": "markdown",
   "metadata": {},
   "source": [
    "We have the features stored in df_X, the results stored in Y_all and results of bookmaker stored in Y_Bet_FTR. \n",
    "Then we need to scale the features.\n"
   ]
  },
  {
   "cell_type": "code",
   "execution_count": 10,
   "metadata": {
    "collapsed": true
   },
   "outputs": [],
   "source": [
    "from sklearn.preprocessing import scale\n",
    "X_all=scale(df_X)\n"
   ]
  },
  {
   "cell_type": "code",
   "execution_count": 11,
   "metadata": {
    "collapsed": true
   },
   "outputs": [],
   "source": [
    "# These are the functions used for data manipulation\n",
    "\n",
    "# This function uses HMC to find beta_hat\n",
    "def findbeta(burnin,iteration,X_train,Y_train,sigma,eps,L):\n",
    "    beta=np.zeros((X_train.shape[1],1),dtype=float)\n",
    "    for burnin in range(burnin):\n",
    "        beta=HMC(X_train,Y_train,sigma,eps,L,beta)\n",
    "    for testin in range(iteration):\n",
    "        beta_up=HMC(X_train,Y_train,sigma,eps,L,np.reshape(beta[:,-1],[X_train.shape[1],1]))\n",
    "        beta=np.append(beta,beta_up,axis=1)\n",
    "        #print(np.reshape(beta[:,-1],[5,1]))\n",
    "    beta_hat=np.reshape(np.mean(beta,1),[X_train.shape[1],1])\n",
    "    return beta_hat\n",
    "\n",
    "# This function would use the find beta function to calculate beta_hat for different columns and returns predicted y\n",
    "def combinebeta(X_train,Y_traindum,X_test,Y_testdum,sigma,eps,L,burninnum,iternum):\n",
    "    Y_dum=np.zeros((Y_testdum.shape[0],Y_testdum.shape[1]-1))\n",
    "    for j in range(1,Y_testdum.shape[1]):\n",
    "        beta_hat=findbeta(burninnum,iternum,X_train,Y_traindum[:,j].astype(int),sigma,eps,L)\n",
    "        Y_dum[:,j-1]=predicthmc(X_test,beta_hat)\n",
    "    Y_dum=cnvt2ones(Y_dum)\n",
    "    return Y_dum\n",
    "\n",
    "# This function calculates probabilities of each element in y matrix\n",
    "def predicthmc(X_test,beta_hat):\n",
    "    hmcpred=np.reshape(1/(1+np.exp(-np.dot(X_test,beta_hat))),(1,X_test.shape[0]))\n",
    "    return hmcpred\n",
    "\n",
    "# This function converts probabilities found in previous function to 1 and 0s\n",
    "def cnvt2ones(Y_lr):\n",
    "    FR = np.zeros_like(Y_lr)\n",
    "    FR[np.arange(len(Y_lr)), Y_lr.argmax(1)] = 1\n",
    "    return FR\n",
    "\n",
    "# This function produces \"H\",\"D\",\"A\" labels as mentioned above based on 3*n matix y\n",
    "def reverseones(Y_lr):\n",
    "    df=pd.DataFrame(Y_lr)\n",
    "    df['FTR']=np.select([df[0]==1,df[1]==1,df[2]==1],['H','D','A'])\n",
    "    return np.array(df['FTR'])\n",
    "\n",
    "# This function calculates accuracy of the results predicted with real values\n",
    "def reportacc(Y_test,Y_pred):\n",
    "    #Y_predp=reverseones(Y_pred)\n",
    "    acc=sum(Y_test==Y_pred)/len(Y_pred)\n",
    "    return acc"
   ]
  },
  {
   "cell_type": "markdown",
   "metadata": {},
   "source": [
    "In order to do the predictions, we observe 70% of the data and predict remaining 30%. Another method would be to calculate the results of each week based on previous 5 weeks. That takes about 30 minutes to calculate, so we kept it simple so the whole code can be run in couple of minutes."
   ]
  },
  {
   "cell_type": "code",
   "execution_count": 12,
   "metadata": {
    "collapsed": true
   },
   "outputs": [],
   "source": [
    "# This function produces Train and Test data sets based on raw data\n",
    "def makesplitdata(X,Y,ratio=0.7):\n",
    "    length=len(X)\n",
    "    n_train=int(0.7*length)\n",
    "    X_train=X[:n_train]\n",
    "    X_test=X[-length+n_train:]\n",
    "    Y_train=Y[:n_train]\n",
    "    Y_test=Y[-length+n_train:]\n",
    "    Y_train365=Y_Bet_FTR[:n_train]\n",
    "    Y_test365=Y_Bet_FTR[-length+n_train:]\n",
    "    return X_train, X_test, Y_train, Y_test,Y_train365,Y_test365"
   ]
  },
  {
   "cell_type": "code",
   "execution_count": 13,
   "metadata": {
    "collapsed": true,
    "scrolled": false
   },
   "outputs": [],
   "source": [
    "burninnum=200\n",
    "iternum=300\n",
    "sigma=1\n",
    "eps=0.01\n",
    "L=20\n",
    "X_train, X_test, Y_train, Y_test,Y_train365,Y_test365=makesplitdata(X_all,np.array(Result))\n",
    "Y_lr=combinebeta(X_train,Y_train,X_test,Y_test,sigma,eps,L,burninnum,iternum)"
   ]
  },
  {
   "cell_type": "code",
   "execution_count": 14,
   "metadata": {
    "scrolled": false
   },
   "outputs": [
    {
     "name": "stdout",
     "output_type": "stream",
     "text": [
      "The accuracy of Bayesian logistic regression using HMC for sampling is 0.611650485437\n"
     ]
    }
   ],
   "source": [
    "FRes=reverseones(Y_lr)\n",
    "print('The accuracy of Bayesian logistic regression using HMC for sampling is',reportacc(FRes,Y_test[:,0]))"
   ]
  },
  {
   "cell_type": "code",
   "execution_count": 15,
   "metadata": {
    "collapsed": true
   },
   "outputs": [],
   "source": [
    "from sklearn.metrics import classification_report\n",
    "def report_score(y_test,y_pred):\n",
    "    target_names = ['H', 'D', 'A']\n",
    "    print(classification_report(y_test, y_pred, target_names=target_names))"
   ]
  },
  {
   "cell_type": "code",
   "execution_count": 16,
   "metadata": {},
   "outputs": [
    {
     "name": "stdout",
     "output_type": "stream",
     "text": [
      "             precision    recall  f1-score   support\n",
      "\n",
      "          H       0.58      0.81      0.68        32\n",
      "          D       0.35      0.27      0.31        22\n",
      "          A       0.76      0.63      0.69        49\n",
      "\n",
      "avg / total       0.61      0.61      0.60       103\n",
      "\n"
     ]
    }
   ],
   "source": [
    "report_score(Y_test[:,0],FRes)"
   ]
  },
  {
   "cell_type": "markdown",
   "metadata": {},
   "source": [
    "Now, we will vary Bayesian model parameters to find the ones that give the best accuracy.\n",
    "NOTICE: This part takes considerable amount of time, you can skip it. "
   ]
  },
  {
   "cell_type": "code",
   "execution_count": 17,
   "metadata": {
    "collapsed": true
   },
   "outputs": [],
   "source": [
    "def tunepar(X_train,Y_train,X_test,Y_test,sigma,eps,L,burninnum,iternum):\n",
    "    acc=0\n",
    "    for sigmad in sigma:\n",
    "        for epsd in eps:\n",
    "            for Ld in L:\n",
    "                Y_lr=combinebeta(X_train,Y_train,X_test,Y_test,sigmad,epsd,Ld,burninnum,iternum)\n",
    "                FRes=reverseones(Y_lr)\n",
    "                if reportacc(FRes,Y_test[:,0])>acc:\n",
    "                    acc=reportacc(FRes,Y_test[:,0])\n",
    "                    best_sigma=sigmad\n",
    "                    best_eps=epsd\n",
    "                    best_L=Ld\n",
    "    print('maximum accuracy is found by these parameters: Sigma=',best_sigma,'Epsilon=',best_eps,'L=',best_L)\n",
    "    print('the maximum accuracy found in test data is', acc)\n",
    "    return acc, best_sigma, best_eps, best_L"
   ]
  },
  {
   "cell_type": "code",
   "execution_count": 18,
   "metadata": {
    "collapsed": true
   },
   "outputs": [],
   "source": [
    "sigmatest=np.arange(1,5,1)\n",
    "epstest=np.arange(0.01,0.05,0.01)\n",
    "Ltest=np.arange(10,50,10)"
   ]
  },
  {
   "cell_type": "code",
   "execution_count": 19,
   "metadata": {},
   "outputs": [
    {
     "name": "stdout",
     "output_type": "stream",
     "text": [
      "maximum accuracy is found by these parameters: Sigma= 1 Epsilon= 0.02 L= 20\n",
      "the maximum accuracy found in test data is 0.631067961165\n"
     ]
    }
   ],
   "source": [
    "acc, best_sigma, best_eps, best_L=tunepar(X_train,Y_train,X_test,Y_test,sigmatest,epstest,Ltest,burninnum,iternum)"
   ]
  },
  {
   "cell_type": "markdown",
   "metadata": {},
   "source": [
    "Then we use two different algorithms, Logistic regression and SVM, to train the models and predict the outcome. Then we define a pipeline to optimize parameters of models (C which is optimized in these models is a parameter that shows regularization in our model)"
   ]
  },
  {
   "cell_type": "code",
   "execution_count": 20,
   "metadata": {},
   "outputs": [
    {
     "name": "stderr",
     "output_type": "stream",
     "text": [
      "D:\\Apps\\Anaconda3\\lib\\site-packages\\sklearn\\cross_validation.py:41: DeprecationWarning: This module was deprecated in version 0.18 in favor of the model_selection module into which all the refactored classes and functions are moved. Also note that the interface of the new CV iterators are different from that of this module. This module will be removed in 0.20.\n",
      "  \"This module will be removed in 0.20.\", DeprecationWarning)\n",
      "D:\\Apps\\Anaconda3\\lib\\site-packages\\sklearn\\grid_search.py:42: DeprecationWarning: This module was deprecated in version 0.18 in favor of the model_selection module into which all the refactored classes and functions are moved. This module will be removed in 0.20.\n",
      "  DeprecationWarning)\n"
     ]
    }
   ],
   "source": [
    "from sklearn.model_selection import train_test_split\n",
    "from sklearn.grid_search import GridSearchCV\n",
    "from sklearn import linear_model\n",
    "from sklearn.svm import SVC\n",
    "from sklearn.metrics import classification_report\n",
    "def predict_labels(clf,X_test):\n",
    "    y_pred=clf.predict(X_test)\n",
    "    return y_pred   \n",
    "\n",
    "def train_classifier(clf,parameters,X_train,y_train):\n",
    "    grid_class = GridSearchCV(clf,scoring='accuracy',param_grid=parameters)\n",
    "    grid_class = grid_class.fit(X_train,y_train)\n",
    "    clf = grid_class.best_estimator_\n",
    "    return clf\n",
    "clf_logistic= linear_model.LogisticRegression(multi_class = \"ovr\", solver = 'newton-cg', class_weight = 'balanced')\n",
    "clf_svc = SVC(kernel=\"linear\",probability=True)\n",
    "clfs=[clf_logistic,clf_svc]\n",
    "parameter_logistic = {'C': np.logspace(-5,5,10)}\n",
    "parameter_SVC = {'C': np.arange(0.1,3,0.1)}\n",
    "parameters={clfs[0]:parameter_logistic,clfs[1]:parameter_SVC}"
   ]
  },
  {
   "cell_type": "code",
   "execution_count": 21,
   "metadata": {},
   "outputs": [
    {
     "name": "stdout",
     "output_type": "stream",
     "text": [
      "             precision    recall  f1-score   support\n",
      "\n",
      "          H       0.64      0.72      0.68        32\n",
      "          D       0.25      0.09      0.13        22\n",
      "          A       0.64      0.78      0.70        49\n",
      "\n",
      "avg / total       0.56      0.61      0.57       103\n",
      "\n",
      "the accury found for the test data using LogisticRegression is 0.611650485437\n",
      "             precision    recall  f1-score   support\n",
      "\n",
      "          H       0.73      0.59      0.66        32\n",
      "          D       0.00      0.00      0.00        22\n",
      "          A       0.58      0.92      0.71        49\n",
      "\n",
      "avg / total       0.51      0.62      0.54       103\n",
      "\n",
      "the accury found for the test data using SVC is 0.621359223301\n"
     ]
    },
    {
     "name": "stderr",
     "output_type": "stream",
     "text": [
      "D:\\Apps\\Anaconda3\\lib\\site-packages\\sklearn\\metrics\\classification.py:1135: UndefinedMetricWarning: Precision and F-score are ill-defined and being set to 0.0 in labels with no predicted samples.\n",
      "  'precision', 'predicted', average, warn_for)\n"
     ]
    }
   ],
   "source": [
    "for clf in clfs:\n",
    "    clf=train_classifier(clf,parameters[clf],X_train,Y_train[:,0])\n",
    "    y_pred=predict_labels(clf,X_test)\n",
    "    report_score(Y_test[:,0],y_pred)\n",
    "    print('the accury found for the test data using',clf.__class__.__name__,'is', reportacc(Y_test[:,0],y_pred))"
   ]
  },
  {
   "cell_type": "markdown",
   "metadata": {},
   "source": [
    "Let's how good, BET365 had predicted the results."
   ]
  },
  {
   "cell_type": "code",
   "execution_count": 24,
   "metadata": {},
   "outputs": [
    {
     "name": "stdout",
     "output_type": "stream",
     "text": [
      "the accuracy found for test data based on Bet365 odds is 0.669902912621\n"
     ]
    }
   ],
   "source": [
    "print('the accuracy found for test data based on Bet365 odds is',reportacc(Y_test[:,0],Y_test365))"
   ]
  },
  {
   "cell_type": "markdown",
   "metadata": {},
   "source": [
    "Based on what we calculated we can achieve accuracies close to the one predicted by bookmaker (BET365). However,BET365 did not have any prediction for Draw. This results in ill-defined f1-score. The better accuracy by BET365 is probably due to more precise data on team strengths and also player strengths, which we did not use.\n",
    "Also comparing Bayesian Logistic regression, Logistic regression and SVM shows that optimized Bayesian Logistic regression produces best accuracy. \n",
    "I would like to mention that predicting betting odds is also so important. Whenever our model predicts higher probability for win or draw in comparison to bookmaker, it is logical to bet on that match (this method is referred as value bet)."
   ]
  }
 ],
 "metadata": {
  "anaconda-cloud": {},
  "kernelspec": {
   "display_name": "Python 3",
   "language": "python",
   "name": "python3"
  },
  "language_info": {
   "codemirror_mode": {
    "name": "ipython",
    "version": 3
   },
   "file_extension": ".py",
   "mimetype": "text/x-python",
   "name": "python",
   "nbconvert_exporter": "python",
   "pygments_lexer": "ipython3",
   "version": "3.6.3"
  }
 },
 "nbformat": 4,
 "nbformat_minor": 2
}
